{
 "cells": [
  {
   "cell_type": "markdown",
   "metadata": {},
   "source": [
    "Edit this file and write your solutions to the problems in sections specified with `# Your solution goes here`."
   ]
  },
  {
   "cell_type": "markdown",
   "metadata": {},
   "source": [
    "# Analyzing Chicken and Eggs\n",
    "The goal of this assignment is to recreate the analysis of the chicken and eggs data set presented in this video:  \n",
    "https://www.youtube.com/watch?v=j6ClFJhnG18\n",
    "\n",
    "Watch the video. The first half is about visualization in general, the chicken and egg analysis starts at about 9:50. Note that the author uses R rather than Python.\n",
    "\n",
    "The data set is unfortunately not available, so a dataset has been created, saved as `chicken.csv`. There are differences in the numbers, but the character should be the same.\n",
    "\n",
    "In A. Analysis below, the different analysis steps are prepared for you. For all plots, you are asked to produce the plot first with Pandas.plot() and then with Seaborn. Section B. Reflection asks you to think about both of these ways of plotting, which you prefer and for what cases. "
   ]
  },
  {
   "cell_type": "code",
   "execution_count": 36,
   "metadata": {},
   "outputs": [],
   "source": [
    "%matplotlib inline\n",
    "\n",
    "import numpy as np\n",
    "import pandas as pd\n",
    "import matplotlib.pyplot as plt\n",
    "import seaborn as sns"
   ]
  },
  {
   "cell_type": "markdown",
   "metadata": {},
   "source": [
    "## A. Analyzing the data"
   ]
  },
  {
   "cell_type": "markdown",
   "metadata": {},
   "source": [
    "### 0. Read in the data "
   ]
  },
  {
   "cell_type": "code",
   "execution_count": 37,
   "metadata": {},
   "outputs": [],
   "source": [
    "# Your solution goes here\n",
    "df_chicken = pd.read_csv('chicken.csv')"
   ]
  },
  {
   "cell_type": "markdown",
   "metadata": {},
   "source": [
    "### 1. Weight by diet summary stats (Pandas groupby and describe)"
   ]
  },
  {
   "cell_type": "code",
   "execution_count": null,
   "metadata": {},
   "outputs": [],
   "source": [
    "# Your solution goes here\n",
    "df_chicken.groupby('diet')['weight'].describe()"
   ]
  },
  {
   "cell_type": "markdown",
   "metadata": {},
   "source": [
    "### 2. Eggs by diet summary stats (Pandas groupby and describe)"
   ]
  },
  {
   "cell_type": "code",
   "execution_count": null,
   "metadata": {},
   "outputs": [],
   "source": [
    "# Your solution goes here\n",
    "df_chicken.groupby('diet')['eggs'].describe()"
   ]
  },
  {
   "cell_type": "markdown",
   "metadata": {},
   "source": [
    "### 3.1 Histogram of age of chickens (Pandas hist())"
   ]
  },
  {
   "cell_type": "code",
   "execution_count": null,
   "metadata": {},
   "outputs": [],
   "source": [
    "# Your solution goes here\n",
    "df_chicken.hist(\"age\")"
   ]
  },
  {
   "cell_type": "markdown",
   "metadata": {},
   "source": [
    "### 3.2 Histogram of age of chickens (Seaborn distplot())"
   ]
  },
  {
   "cell_type": "code",
   "execution_count": null,
   "metadata": {},
   "outputs": [],
   "source": [
    "# Your solution goes here\n",
    "sns.displot(data = df_chicken['age'])"
   ]
  },
  {
   "cell_type": "markdown",
   "metadata": {},
   "source": [
    "### 4.1 Boxplot age (Pandas boxplot())"
   ]
  },
  {
   "cell_type": "code",
   "execution_count": null,
   "metadata": {},
   "outputs": [],
   "source": [
    "# Your solution goes here\n",
    "df_chicken.boxplot('age')"
   ]
  },
  {
   "cell_type": "markdown",
   "metadata": {},
   "source": [
    "### 4.2 Boxplot age (Seaborn boxplot())"
   ]
  },
  {
   "cell_type": "code",
   "execution_count": null,
   "metadata": {},
   "outputs": [],
   "source": [
    "# Your solution goes here\n",
    "sns.boxplot(y = df_chicken['age'])"
   ]
  },
  {
   "cell_type": "markdown",
   "metadata": {},
   "source": [
    "### 5.1 Plot average weight vs weeks by diet (Pandas plot() on groupby()) \n",
    "Hint: groupby week and diet, calculate mean, get the weight colum, unstack and plot  \n",
    "see here for more details:  \n",
    "https://scentellegher.github.io/programming/2017/07/15/pandas-groupby-multiple-columns-plot.html"
   ]
  },
  {
   "cell_type": "code",
   "execution_count": null,
   "metadata": {},
   "outputs": [],
   "source": [
    "# Your solution goes here\n",
    "df_chicken.groupby(['diet','week']).mean()['weight'].unstack(0).plot()\n"
   ]
  },
  {
   "cell_type": "markdown",
   "metadata": {},
   "source": [
    "### 5.2 Plot average weight vs weeks by diet (Seaborn pointplot()) \n",
    "Hint: set `ci=None` to not get error bars"
   ]
  },
  {
   "cell_type": "code",
   "execution_count": null,
   "metadata": {},
   "outputs": [],
   "source": [
    "# Your solution goes here\n",
    "sns.pointplot(x ='week', y='weight', hue='diet', errorbar= None, data=df_chicken)"
   ]
  },
  {
   "cell_type": "markdown",
   "metadata": {},
   "source": [
    "### 6.1 Plot average eggs vs weeks by diet (Pandas plot() on groupby()) \n",
    "Hint: It might be good to start y axis at 0"
   ]
  },
  {
   "cell_type": "code",
   "execution_count": null,
   "metadata": {},
   "outputs": [],
   "source": [
    "# Your solution goes here\n",
    "df_chicken.groupby(['week','diet']).mean()['eggs'].unstack(1).plot(ylim=(0,5), ylabel='Number of eggs')"
   ]
  },
  {
   "cell_type": "markdown",
   "metadata": {},
   "source": [
    "### 6.2 Plot average eggs vs weeks by diet (Seaborn pointplot()) \n",
    "Hint: It might be good to start y axis at 0"
   ]
  },
  {
   "cell_type": "code",
   "execution_count": null,
   "metadata": {},
   "outputs": [],
   "source": [
    "# Your solution goes here\n",
    "sns.pointplot(x ='week', y='eggs', hue='diet', errorbar= None, data=df_chicken, markers = '.')\n",
    "plt.ylim(0,5)"
   ]
  },
  {
   "cell_type": "markdown",
   "metadata": {},
   "source": [
    "### 7. Average age by diet stats (Pandas groupby())"
   ]
  },
  {
   "cell_type": "code",
   "execution_count": null,
   "metadata": {},
   "outputs": [],
   "source": [
    "# Your solution goes here\n",
    "df_chicken.groupby('diet')['age'].mean()"
   ]
  },
  {
   "cell_type": "markdown",
   "metadata": {},
   "source": [
    "### 8.1 Scatter plot eggs vs age by diet (Pandas plot.scatter())\n",
    "Hint: You need to loop over the diet 'A', 'B', 'C' and plot each seperatly in the same axes. Use `ax=plt.gca()` to get repeated plots to appear in the same axes. For more info, have a look at the following thread:  \n",
    "https://stackoverflow.com/questions/26139423/plot-different-color-for-different-categorical-levels-using-matplotlib\n"
   ]
  },
  {
   "cell_type": "code",
   "execution_count": null,
   "metadata": {},
   "outputs": [],
   "source": [
    "# Your solution goes here\n",
    "\n",
    "for row in df_chicken.itertuples():\n",
    "    if row.diet == 'A':\n",
    "        plt.scatter(row.age,row.eggs, c='blue', label='A')\n",
    "    elif row.diet == 'B':\n",
    "        plt.scatter(row.age,row.eggs, c='green', label='B')\n",
    "    else:\n",
    "        plt.scatter(row.age,row.eggs, c='yellow', label='C')\n",
    "handles, labels = plt.gca().get_legend_handles_labels()\n",
    "by_label = dict(zip(labels,handles))\n",
    "plt.legend(by_label.values(), by_label.keys())"
   ]
  },
  {
   "cell_type": "markdown",
   "metadata": {},
   "source": [
    "### 8.2 Scatter plot eggs vs age by diet (Seaborn scatterplot()) \n"
   ]
  },
  {
   "cell_type": "code",
   "execution_count": null,
   "metadata": {},
   "outputs": [],
   "source": [
    "# Your solution goes here\n",
    "sns.scatterplot(x ='age', y='eggs', hue='diet', data=df_chicken, markers = '.')"
   ]
  },
  {
   "cell_type": "markdown",
   "metadata": {},
   "source": [
    "### 9.1 Boxplot age by diet (Pandas boxplot())"
   ]
  },
  {
   "cell_type": "code",
   "execution_count": null,
   "metadata": {},
   "outputs": [],
   "source": [
    "# Your solution goes here\n",
    "df_chicken.boxplot('age', 'diet')"
   ]
  },
  {
   "cell_type": "markdown",
   "metadata": {},
   "source": [
    "### 9.2 Boxplot age by diet (Seaborn boxplot())"
   ]
  },
  {
   "cell_type": "code",
   "execution_count": null,
   "metadata": {},
   "outputs": [],
   "source": [
    "# Your solution goes here\n",
    "sns.boxplot(y=df_chicken['age'], x = df_chicken['diet'])"
   ]
  },
  {
   "cell_type": "markdown",
   "metadata": {},
   "source": [
    "## B. Reflection\n",
    "After plotting with Pandas and Seaborn, in your opinion:\n",
    "1. What are the strengths/weaknesses of Pandas?\n",
    "2. What are the strengths/weaknesses of Seaborn?\n",
    "3. When would you use Pandas and when would you use Seaborn?"
   ]
  },
  {
   "attachments": {},
   "cell_type": "markdown",
   "metadata": {},
   "source": [
    "**Your answers can go here:**\n",
    "1. Pandas groupby function made it easy to see a table of data and how it was sorted. Also pandas describe function is an easy way to see simple statistical analysis on a pandas dataframe that is grouped. Pandas weaknesses appear to be that many times the plots it produces are not aesthetically as pleasing as other plotting modules -- comparing the box plot\n",
    "in 9.1 to the boxplot in 9.2 we can see that the base pandas box plot has no colour. Often times seaborn was able to plot the same graph as matplotlib in fewer lines. For example in the scatter plot in 8.1 and 8.2 matplotlib required 10 lines of code (including a for loop) while seaborn produced the same scatter in one line.\n",
    "\n",
    "2. Seaborn's advantages seem to be that it can provide similar graphs to pandas in fewer lines and the plots are aesthetically more pleasing (see box plot 9.1 vs 9.2). Disadvantages of seaborn are that it is not a built in library to python, additionally it is less customizable and powerful than pandas and matplotlib.\n",
    "\n",
    "3. Pandas is useful when you want to analyze and manipulate data and see raw data in a table form. Seaborn appears to be much easier to plot data, especially when creating simple plots where they often are able to be created in fewer lines than matplotlib and pandas dataframe.\n",
    "\n",
    "\n",
    "\n",
    "\n",
    "\n",
    "\n",
    "\n"
   ]
  }
 ],
 "metadata": {
  "@webio": {
   "lastCommId": null,
   "lastKernelId": null
  },
  "kernelspec": {
   "display_name": "Python 3",
   "language": "python",
   "name": "python3"
  },
  "language_info": {
   "codemirror_mode": {
    "name": "ipython",
    "version": 3
   },
   "file_extension": ".py",
   "mimetype": "text/x-python",
   "name": "python",
   "nbconvert_exporter": "python",
   "pygments_lexer": "ipython3",
   "version": "3.10.7"
  },
  "vscode": {
   "interpreter": {
    "hash": "2c97521948b64ea5cd22154effa14a99dc236ccb0c4ec0ab2858c53feb37c87d"
   }
  }
 },
 "nbformat": 4,
 "nbformat_minor": 4
}
